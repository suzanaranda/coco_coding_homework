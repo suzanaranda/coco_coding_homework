{
 "cells": [
  {
   "cell_type": "code",
   "execution_count": 1,
   "id": "93597054-f81a-4984-9162-efcd5ab6cffe",
   "metadata": {},
   "outputs": [],
   "source": [
    "#HOMEWORK COCO2_PYTHON_BASICS\n",
    "import numpy as np"
   ]
  },
  {
   "cell_type": "code",
   "execution_count": 2,
   "id": "77e9f3a6-b29e-44db-a904-d13f448620fd",
   "metadata": {},
   "outputs": [
    {
     "data": {
      "text/plain": [
       "('Mercurio',\n",
       " 'Venus',\n",
       " 'Tierra',\n",
       " 'Marte',\n",
       " 'Jupiter',\n",
       " 'Saturno',\n",
       " 'Urano',\n",
       " 'Neptuno',\n",
       " 'Pluton')"
      ]
     },
     "execution_count": 2,
     "metadata": {},
     "output_type": "execute_result"
    }
   ],
   "source": [
    "# 1° Task\n",
    "# 1. Crea una lista con los nombres de todos los planetas del sistema solar (en orden). Es un Strings!\n",
    "planetas = ('Mercurio', 'Venus', 'Tierra','Marte','Jupiter','Saturno','Urano','Neptuno','Pluton')\n",
    "planetas"
   ]
  },
  {
   "cell_type": "code",
   "execution_count": 3,
   "id": "c06058b2-f868-4ad0-a7cd-98b0045af541",
   "metadata": {},
   "outputs": [
    {
     "data": {
      "text/plain": [
       "9"
      ]
     },
     "execution_count": 3,
     "metadata": {},
     "output_type": "execute_result"
    }
   ],
   "source": [
    "# 2. Haz que Python te diga cuántos planetas hay examinando tu lista\n",
    "len(planetas)"
   ]
  },
  {
   "cell_type": "code",
   "execution_count": 4,
   "id": "866f8c8c-5f1f-4537-b705-bb44f10c2dbd",
   "metadata": {},
   "outputs": [
    {
     "name": "stdout",
     "output_type": "stream",
     "text": [
      "('Mercurio', 'Venus', 'Tierra', 'Marte')\n"
     ]
    }
   ],
   "source": [
    "# 3. Muestre los primeros cuatro planetas del sistema solar (los planetas rocosos).\n",
    "#Usar los corchetes o no funciona!!\n",
    "print(planetas[0:4])"
   ]
  },
  {
   "cell_type": "code",
   "execution_count": null,
   "id": "93a6aabf-d086-4efb-a977-41274cfeadbe",
   "metadata": {},
   "outputs": [],
   "source": [
    "T = 30.3 ^\\circ\\text{F} $$\n",
    "\n",
    "# Conviertan este valor a grados Celsius, sabiendo que:\n",
    "# $$ [^\\circ\\text{C}] = \\frac{5}{9} ([^\\circ\\text{F}] - 32) $$\n",
    "\n",
    "# Requerimientos:\n",
    "\n",
    "# Asignar el dato recibido a una variable.\n",
    "# Aplicar la transformación de unidades usando esta variable.\n",
    "# Guardar el dato en Celsius en otra variable.\n",
    "# Utilizar la función print para mostrar ambos resultados."
   ]
  },
  {
   "cell_type": "code",
   "execution_count": 5,
   "id": "cad59287-83d1-4c1b-8456-77b0c14637ba",
   "metadata": {},
   "outputs": [
    {
     "data": {
      "text/plain": [
       "30.3"
      ]
     },
     "execution_count": 5,
     "metadata": {},
     "output_type": "execute_result"
    }
   ],
   "source": [
    "T_Farenheit = 30.3\n",
    "T_Farenheit"
   ]
  },
  {
   "cell_type": "code",
   "execution_count": 6,
   "id": "db3d8425-a81f-44a0-9151-2235ace8e395",
   "metadata": {},
   "outputs": [
    {
     "data": {
      "text/plain": [
       "22.54"
      ]
     },
     "execution_count": 6,
     "metadata": {},
     "output_type": "execute_result"
    }
   ],
   "source": [
    "T_Celsius = T_Farenheit*9/5-32\n",
    "T_Celsius"
   ]
  },
  {
   "cell_type": "code",
   "execution_count": null,
   "id": "a9285098-67db-482f-a7b6-1b208b2c0184",
   "metadata": {},
   "outputs": [],
   "source": [
    "# 3° Task\n",
    "#Dado el array: `([ 1, 2, 3, 4, 5, 6, 7, 8, 9, 10, 11, 12, 13, 14, 15, 16])` investigue la documentación de la \n",
    "#librería `numpy` para \"reshape\" o reformular el array para que sea de 4x4."
   ]
  },
  {
   "cell_type": "code",
   "execution_count": 7,
   "id": "4e7d64ea-fa05-475c-890f-4713fd4999fe",
   "metadata": {},
   "outputs": [
    {
     "data": {
      "text/plain": [
       "\u001b[0;31mSignature:\u001b[0m \u001b[0mnp\u001b[0m\u001b[0;34m.\u001b[0m\u001b[0mreshape\u001b[0m\u001b[0;34m(\u001b[0m\u001b[0ma\u001b[0m\u001b[0;34m,\u001b[0m \u001b[0mnewshape\u001b[0m\u001b[0;34m,\u001b[0m \u001b[0morder\u001b[0m\u001b[0;34m=\u001b[0m\u001b[0;34m'C'\u001b[0m\u001b[0;34m)\u001b[0m\u001b[0;34m\u001b[0m\u001b[0;34m\u001b[0m\u001b[0m\n",
       "\u001b[0;31mDocstring:\u001b[0m\n",
       "Gives a new shape to an array without changing its data.\n",
       "\n",
       "Parameters\n",
       "----------\n",
       "a : array_like\n",
       "    Array to be reshaped.\n",
       "newshape : int or tuple of ints\n",
       "    The new shape should be compatible with the original shape. If\n",
       "    an integer, then the result will be a 1-D array of that length.\n",
       "    One shape dimension can be -1. In this case, the value is\n",
       "    inferred from the length of the array and remaining dimensions.\n",
       "order : {'C', 'F', 'A'}, optional\n",
       "    Read the elements of `a` using this index order, and place the\n",
       "    elements into the reshaped array using this index order.  'C'\n",
       "    means to read / write the elements using C-like index order,\n",
       "    with the last axis index changing fastest, back to the first\n",
       "    axis index changing slowest. 'F' means to read / write the\n",
       "    elements using Fortran-like index order, with the first index\n",
       "    changing fastest, and the last index changing slowest. Note that\n",
       "    the 'C' and 'F' options take no account of the memory layout of\n",
       "    the underlying array, and only refer to the order of indexing.\n",
       "    'A' means to read / write the elements in Fortran-like index\n",
       "    order if `a` is Fortran *contiguous* in memory, C-like order\n",
       "    otherwise.\n",
       "\n",
       "Returns\n",
       "-------\n",
       "reshaped_array : ndarray\n",
       "    This will be a new view object if possible; otherwise, it will\n",
       "    be a copy.  Note there is no guarantee of the *memory layout* (C- or\n",
       "    Fortran- contiguous) of the returned array.\n",
       "\n",
       "See Also\n",
       "--------\n",
       "ndarray.reshape : Equivalent method.\n",
       "\n",
       "Notes\n",
       "-----\n",
       "It is not always possible to change the shape of an array without\n",
       "copying the data. If you want an error to be raised when the data is copied,\n",
       "you should assign the new shape to the shape attribute of the array::\n",
       "\n",
       " >>> a = np.zeros((10, 2))\n",
       "\n",
       " # A transpose makes the array non-contiguous\n",
       " >>> b = a.T\n",
       "\n",
       " # Taking a view makes it possible to modify the shape without modifying\n",
       " # the initial object.\n",
       " >>> c = b.view()\n",
       " >>> c.shape = (20)\n",
       " Traceback (most recent call last):\n",
       "    ...\n",
       " AttributeError: Incompatible shape for in-place modification. Use\n",
       " `.reshape()` to make a copy with the desired shape.\n",
       "\n",
       "The `order` keyword gives the index ordering both for *fetching* the values\n",
       "from `a`, and then *placing* the values into the output array.\n",
       "For example, let's say you have an array:\n",
       "\n",
       ">>> a = np.arange(6).reshape((3, 2))\n",
       ">>> a\n",
       "array([[0, 1],\n",
       "       [2, 3],\n",
       "       [4, 5]])\n",
       "\n",
       "You can think of reshaping as first raveling the array (using the given\n",
       "index order), then inserting the elements from the raveled array into the\n",
       "new array using the same kind of index ordering as was used for the\n",
       "raveling.\n",
       "\n",
       ">>> np.reshape(a, (2, 3)) # C-like index ordering\n",
       "array([[0, 1, 2],\n",
       "       [3, 4, 5]])\n",
       ">>> np.reshape(np.ravel(a), (2, 3)) # equivalent to C ravel then C reshape\n",
       "array([[0, 1, 2],\n",
       "       [3, 4, 5]])\n",
       ">>> np.reshape(a, (2, 3), order='F') # Fortran-like index ordering\n",
       "array([[0, 4, 3],\n",
       "       [2, 1, 5]])\n",
       ">>> np.reshape(np.ravel(a, order='F'), (2, 3), order='F')\n",
       "array([[0, 4, 3],\n",
       "       [2, 1, 5]])\n",
       "\n",
       "Examples\n",
       "--------\n",
       ">>> a = np.array([[1,2,3], [4,5,6]])\n",
       ">>> np.reshape(a, 6)\n",
       "array([1, 2, 3, 4, 5, 6])\n",
       ">>> np.reshape(a, 6, order='F')\n",
       "array([1, 4, 2, 5, 3, 6])\n",
       "\n",
       ">>> np.reshape(a, (3,-1))       # the unspecified value is inferred to be 2\n",
       "array([[1, 2],\n",
       "       [3, 4],\n",
       "       [5, 6]])\n",
       "\u001b[0;31mFile:\u001b[0m      /opt/tljh/user/lib/python3.9/site-packages/numpy/core/fromnumeric.py\n",
       "\u001b[0;31mType:\u001b[0m      function\n"
      ]
     },
     "metadata": {},
     "output_type": "display_data"
    }
   ],
   "source": [
    "np.reshape?"
   ]
  },
  {
   "cell_type": "code",
   "execution_count": 8,
   "id": "62066416-5fae-4613-978f-3c4f0a491fbb",
   "metadata": {},
   "outputs": [
    {
     "data": {
      "text/plain": [
       "[1, 2, 3, 4, 5, 6, 7, 8, 9, 10, 11, 12, 13, 14, 15, 16]"
      ]
     },
     "execution_count": 8,
     "metadata": {},
     "output_type": "execute_result"
    }
   ],
   "source": [
    "a = ([ 1, 2, 3, 4, 5, 6, 7, 8, 9, 10, 11, 12, 13, 14, 15, 16])\n",
    "a"
   ]
  },
  {
   "cell_type": "code",
   "execution_count": 9,
   "id": "4c22374d-6c53-47ad-a94b-389f061a70c2",
   "metadata": {},
   "outputs": [
    {
     "data": {
      "text/plain": [
       "array([[ 1,  2,  3,  4],\n",
       "       [ 5,  6,  7,  8],\n",
       "       [ 9, 10, 11, 12],\n",
       "       [13, 14, 15, 16]])"
      ]
     },
     "execution_count": 9,
     "metadata": {},
     "output_type": "execute_result"
    }
   ],
   "source": [
    "np.reshape(a, (4,4))"
   ]
  },
  {
   "cell_type": "code",
   "execution_count": null,
   "id": "cc5ecdf4-ac73-42cc-9fab-759072d45743",
   "metadata": {},
   "outputs": [],
   "source": [
    "# 4° Task\n",
    "# NumPy nos permite también aplicar funciones matemáticas.\n",
    "\n",
    "# Calcule el seno y el coseno de los ángulos: 0, 30, 45, 60 y 90 dados en grados:"
   ]
  },
  {
   "cell_type": "code",
   "execution_count": 10,
   "id": "461106ca-a2ba-4e8f-9182-55d4ec40f754",
   "metadata": {},
   "outputs": [
    {
     "data": {
      "text/plain": [
       "[0, 30, 45, 60, 90]"
      ]
     },
     "execution_count": 10,
     "metadata": {},
     "output_type": "execute_result"
    }
   ],
   "source": [
    "# Cree un array con los ángulos mencionados en grados.\n",
    "ang_grad = ([0, 30, 45, 60, 90])       # 0, n.pi/6, n.pi/4, n.pi/6/3, n.pi/2 es en radianes\n",
    "ang_grad"
   ]
  },
  {
   "cell_type": "code",
   "execution_count": 12,
   "id": "d9541529-ebf1-41dc-8abf-6f0a7c08c8e4",
   "metadata": {},
   "outputs": [
    {
     "data": {
      "text/plain": [
       "array([0.        , 0.52359878, 0.78539816, 1.04719755, 1.57079633])"
      ]
     },
     "execution_count": 12,
     "metadata": {},
     "output_type": "execute_result"
    }
   ],
   "source": [
    "# Convierta los ángulos a radianes.\n",
    "ang_rad = np.deg2rad(ang_grad)\n",
    "ang_rad"
   ]
  },
  {
   "cell_type": "code",
   "execution_count": 13,
   "id": "0eaf8a8c-24b0-4fe5-99c7-1ffb3cbd4311",
   "metadata": {},
   "outputs": [
    {
     "data": {
      "text/plain": [
       "array([ 0.        , -0.98803162,  0.85090352, -0.30481062,  0.89399666])"
      ]
     },
     "execution_count": 13,
     "metadata": {},
     "output_type": "execute_result"
    }
   ],
   "source": [
    "# Calcule el seno y el coseno de estos ángulos y guárdelos en dos arrays diferentes\n",
    "sen_grad = np.sin(ang_grad)\n",
    "sen_grad"
   ]
  },
  {
   "cell_type": "code",
   "execution_count": 14,
   "id": "31e1bd8b-d255-43b9-a1e2-d2bd5d8caf33",
   "metadata": {},
   "outputs": [
    {
     "data": {
      "text/plain": [
       "array([ 1.        ,  0.15425145,  0.52532199, -0.95241298, -0.44807362])"
      ]
     },
     "execution_count": 14,
     "metadata": {},
     "output_type": "execute_result"
    }
   ],
   "source": [
    "sen_grad = np.cos(ang_grad)\n",
    "sen_grad"
   ]
  },
  {
   "cell_type": "code",
   "execution_count": null,
   "id": "46bc7593-67e8-49f1-b62e-170b06325df0",
   "metadata": {},
   "outputs": [],
   "source": [
    "# Investigue la librería numpy para encontrar las funciones que permitan convertir los ángulos en grados a radianes\n",
    "# y calcular el seno y coseno."
   ]
  },
  {
   "cell_type": "code",
   "execution_count": 15,
   "id": "2941ca69-3b5f-4a82-8119-de409971e8a9",
   "metadata": {},
   "outputs": [
    {
     "data": {
      "text/plain": [
       "array([0.        , 0.5       , 0.70710678, 0.8660254 , 1.        ])"
      ]
     },
     "execution_count": 15,
     "metadata": {},
     "output_type": "execute_result"
    }
   ],
   "source": [
    "# Calcule el seno y el coseno de estos ángulos y guárdelos en dos arrays diferentes.\n",
    "sen_rad = np.sin(ang_rad)\n",
    "sen_rad"
   ]
  },
  {
   "cell_type": "code",
   "execution_count": 16,
   "id": "cf7220ee-ab51-4095-8a26-36edcec45e48",
   "metadata": {},
   "outputs": [
    {
     "data": {
      "text/plain": [
       "array([1.00000000e+00, 8.66025404e-01, 7.07106781e-01, 5.00000000e-01,\n",
       "       6.12323400e-17])"
      ]
     },
     "execution_count": 16,
     "metadata": {},
     "output_type": "execute_result"
    }
   ],
   "source": [
    "cos_rad = np.cos(ang_rad)\n",
    "cos_rad"
   ]
  },
  {
   "cell_type": "code",
   "execution_count": null,
   "id": "09ad0552-bd5c-413c-9cc5-8533b8827fd0",
   "metadata": {},
   "outputs": [],
   "source": [
    "# 5° Task\n",
    "\n",
    "#Una aproximación común para calcular derivadas de funciones es una aproximación en diferencias finitas:\n",
    "\n",
    "#$$\\frac{d}{dx} y(x) = \\frac{y(x + \\Delta x) - y(x)}{\\Delta x}$$\n",
    "\n",
    "#o para datos discretos\n",
    "\n",
    "#$$\\frac{d}{dx} y(x_i) = \\frac{y(x_i + \\Delta x) - y(x_i)}{\\Delta x} = \\frac{y(x_{i+1}) - y(x_i)}{x_{i+1} - x_{i}}$$\n",
    "\n",
    "#Esta operación se puede realizar utilizando las operaciones algebraicas vectorizadas, indices y silce. \n",
    "#¡Intenta calcularlo para la función cuadrática!\n",
    "\n",
    "#Ahora, lea la documentación de Numpy para encontrar una función para poder calcular $\\frac{d}{dx} y(x_i)$."
   ]
  }
 ],
 "metadata": {
  "kernelspec": {
   "display_name": "Python 3 (ipykernel)",
   "language": "python",
   "name": "python3"
  },
  "language_info": {
   "codemirror_mode": {
    "name": "ipython",
    "version": 3
   },
   "file_extension": ".py",
   "mimetype": "text/x-python",
   "name": "python",
   "nbconvert_exporter": "python",
   "pygments_lexer": "ipython3",
   "version": "3.9.7"
  }
 },
 "nbformat": 4,
 "nbformat_minor": 5
}
