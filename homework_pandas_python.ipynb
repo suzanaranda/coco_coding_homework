{
 "cells": [
  {
   "cell_type": "code",
   "execution_count": null,
   "id": "eb221287-2265-498f-b805-93b089cc3280",
   "metadata": {},
   "outputs": [],
   "source": [
    "#MAIN TASK\n",
    "#In this opportunity, we share with you a DataFrame with the bathymetry and gravity disturbance profile of the island of Oahu in Hawaii.\n",
    "\n",
    "#Steps:\n",
    "#Load the file.\n",
    "#Clean the DataFrame:\n",
    "#Remove NaN values, if any\n",
    "#Remove duplicate rows, if any\n",
    "#Fix other problems like out of range values\n",
    "#Plot the gravity disturbance & distance and the bathymetry & distance using subplot. Make the plot as if you were going to use it for a scientific article."
   ]
  },
  {
   "cell_type": "code",
   "execution_count": 47,
   "id": "2a4e97e8-ce93-477b-875b-24c4f6a46903",
   "metadata": {},
   "outputs": [],
   "source": [
    "import pandas as pd\n",
    "from pathlib import Path\n",
    "import matplotlib.pyplot as plt"
   ]
  },
  {
   "cell_type": "code",
   "execution_count": 14,
   "id": "777ea2b4-2d5f-45a7-8691-26b555e5e19b",
   "metadata": {},
   "outputs": [
    {
     "data": {
      "text/plain": [
       "'/home/jupyter-saranda4@miners.ut-6892e/CoCoLessons'"
      ]
     },
     "execution_count": 14,
     "metadata": {},
     "output_type": "execute_result"
    }
   ],
   "source": [
    "pwd"
   ]
  },
  {
   "cell_type": "code",
   "execution_count": 15,
   "id": "f229c31a-f7a7-4baa-a41a-7605a69db321",
   "metadata": {},
   "outputs": [],
   "source": [
    "#Load the file:\n",
    "\n",
    "data_folder = Path(\".\") / \"data\"\n",
    "data = pd.read_csv(data_folder / \"hawaii-profile.csv\")"
   ]
  },
  {
   "cell_type": "code",
   "execution_count": 16,
   "id": "061a3f49-a4d4-421d-93a9-b9708863ade9",
   "metadata": {},
   "outputs": [
    {
     "data": {
      "text/html": [
       "<div>\n",
       "<style scoped>\n",
       "    .dataframe tbody tr th:only-of-type {\n",
       "        vertical-align: middle;\n",
       "    }\n",
       "\n",
       "    .dataframe tbody tr th {\n",
       "        vertical-align: top;\n",
       "    }\n",
       "\n",
       "    .dataframe thead th {\n",
       "        text-align: right;\n",
       "    }\n",
       "</style>\n",
       "<table border=\"1\" class=\"dataframe\">\n",
       "  <thead>\n",
       "    <tr style=\"text-align: right;\">\n",
       "      <th></th>\n",
       "      <th>latitude</th>\n",
       "      <th>longitude</th>\n",
       "      <th>distance_km</th>\n",
       "      <th>topography_km</th>\n",
       "      <th>disturbance_mgal</th>\n",
       "    </tr>\n",
       "  </thead>\n",
       "  <tbody>\n",
       "    <tr>\n",
       "      <th>0</th>\n",
       "      <td>13.000000</td>\n",
       "      <td>-165.000000</td>\n",
       "      <td>0.000000</td>\n",
       "      <td>-4.161000</td>\n",
       "      <td>23.008098</td>\n",
       "    </tr>\n",
       "    <tr>\n",
       "      <th>1</th>\n",
       "      <td>13.082915</td>\n",
       "      <td>-164.929648</td>\n",
       "      <td>12.070042</td>\n",
       "      <td>-4.747907</td>\n",
       "      <td>21.180807</td>\n",
       "    </tr>\n",
       "    <tr>\n",
       "      <th>2</th>\n",
       "      <td>13.165829</td>\n",
       "      <td>-164.859296</td>\n",
       "      <td>24.140085</td>\n",
       "      <td>-5.452608</td>\n",
       "      <td>18.099661</td>\n",
       "    </tr>\n",
       "    <tr>\n",
       "      <th>3</th>\n",
       "      <td>13.248744</td>\n",
       "      <td>-164.788945</td>\n",
       "      <td>36.210127</td>\n",
       "      <td>-5.581402</td>\n",
       "      <td>14.372280</td>\n",
       "    </tr>\n",
       "    <tr>\n",
       "      <th>4</th>\n",
       "      <td>13.331658</td>\n",
       "      <td>-164.718593</td>\n",
       "      <td>48.280170</td>\n",
       "      <td>-5.438978</td>\n",
       "      <td>10.606283</td>\n",
       "    </tr>\n",
       "  </tbody>\n",
       "</table>\n",
       "</div>"
      ],
      "text/plain": [
       "    latitude   longitude  distance_km  topography_km  disturbance_mgal\n",
       "0  13.000000 -165.000000     0.000000      -4.161000         23.008098\n",
       "1  13.082915 -164.929648    12.070042      -4.747907         21.180807\n",
       "2  13.165829 -164.859296    24.140085      -5.452608         18.099661\n",
       "3  13.248744 -164.788945    36.210127      -5.581402         14.372280\n",
       "4  13.331658 -164.718593    48.280170      -5.438978         10.606283"
      ]
     },
     "execution_count": 16,
     "metadata": {},
     "output_type": "execute_result"
    }
   ],
   "source": [
    "data.head()"
   ]
  },
  {
   "cell_type": "code",
   "execution_count": 9,
   "id": "83586160-4b69-48e4-a653-df13af287599",
   "metadata": {},
   "outputs": [
    {
     "data": {
      "text/plain": [
       "(212, 5)"
      ]
     },
     "execution_count": 9,
     "metadata": {},
     "output_type": "execute_result"
    }
   ],
   "source": [
    "data.shape"
   ]
  },
  {
   "cell_type": "code",
   "execution_count": 10,
   "id": "fa08bd1a-ec2a-4a2a-a23b-198287a40f47",
   "metadata": {},
   "outputs": [
    {
     "data": {
      "text/plain": [
       "(206, 5)"
      ]
     },
     "execution_count": 10,
     "metadata": {},
     "output_type": "execute_result"
    }
   ],
   "source": [
    "#Clean the DataFrame:\n",
    "#Remove NAN values, if any\n",
    "data = data.dropna()\n",
    "\n",
    "data.shape #Para saber cuantas filas quedaron después de remover el NAN? 206"
   ]
  },
  {
   "cell_type": "code",
   "execution_count": 12,
   "id": "626f6b71-cfcf-4a72-b531-ff08e1e0a933",
   "metadata": {},
   "outputs": [
    {
     "data": {
      "text/plain": [
       "(201, 5)"
      ]
     },
     "execution_count": 12,
     "metadata": {},
     "output_type": "execute_result"
    }
   ],
   "source": [
    "#Se removieron 6 filas, ahora:\n",
    "#Remove duplicate rows, if any, \n",
    "data = data.drop_duplicates()\n",
    "\n",
    "data.shape # Cuántas filas nos quedaron ahora? Nuesto DataFrame tiene 201 filas ahora que removimos NAN y duplicados."
   ]
  },
  {
   "cell_type": "code",
   "execution_count": 13,
   "id": "d59bb49f-3756-406a-9240-422547eb75e1",
   "metadata": {},
   "outputs": [
    {
     "name": "stdout",
     "output_type": "stream",
     "text": [
      "<class 'pandas.core.frame.DataFrame'>\n",
      "Int64Index: 201 entries, 0 to 211\n",
      "Data columns (total 5 columns):\n",
      " #   Column            Non-Null Count  Dtype  \n",
      "---  ------            --------------  -----  \n",
      " 0   latitude          201 non-null    float64\n",
      " 1   longitude         201 non-null    float64\n",
      " 2   distance_km       201 non-null    float64\n",
      " 3   topography_km     201 non-null    float64\n",
      " 4   disturbance_mgal  201 non-null    float64\n",
      "dtypes: float64(5)\n",
      "memory usage: 9.4 KB\n"
     ]
    }
   ],
   "source": [
    "#Fix other problems like out of range values\n",
    "data.info()"
   ]
  },
  {
   "cell_type": "code",
   "execution_count": 14,
   "id": "b129864e-5dbe-4496-9f84-d3a509d20f96",
   "metadata": {},
   "outputs": [
    {
     "data": {
      "text/html": [
       "<div>\n",
       "<style scoped>\n",
       "    .dataframe tbody tr th:only-of-type {\n",
       "        vertical-align: middle;\n",
       "    }\n",
       "\n",
       "    .dataframe tbody tr th {\n",
       "        vertical-align: top;\n",
       "    }\n",
       "\n",
       "    .dataframe thead th {\n",
       "        text-align: right;\n",
       "    }\n",
       "</style>\n",
       "<table border=\"1\" class=\"dataframe\">\n",
       "  <thead>\n",
       "    <tr style=\"text-align: right;\">\n",
       "      <th></th>\n",
       "      <th>latitude</th>\n",
       "      <th>longitude</th>\n",
       "      <th>distance_km</th>\n",
       "      <th>topography_km</th>\n",
       "      <th>disturbance_mgal</th>\n",
       "    </tr>\n",
       "  </thead>\n",
       "  <tbody>\n",
       "    <tr>\n",
       "      <th>0</th>\n",
       "      <td>False</td>\n",
       "      <td>False</td>\n",
       "      <td>False</td>\n",
       "      <td>False</td>\n",
       "      <td>False</td>\n",
       "    </tr>\n",
       "    <tr>\n",
       "      <th>1</th>\n",
       "      <td>False</td>\n",
       "      <td>False</td>\n",
       "      <td>False</td>\n",
       "      <td>False</td>\n",
       "      <td>False</td>\n",
       "    </tr>\n",
       "    <tr>\n",
       "      <th>2</th>\n",
       "      <td>False</td>\n",
       "      <td>False</td>\n",
       "      <td>False</td>\n",
       "      <td>False</td>\n",
       "      <td>False</td>\n",
       "    </tr>\n",
       "    <tr>\n",
       "      <th>3</th>\n",
       "      <td>False</td>\n",
       "      <td>False</td>\n",
       "      <td>False</td>\n",
       "      <td>False</td>\n",
       "      <td>False</td>\n",
       "    </tr>\n",
       "    <tr>\n",
       "      <th>4</th>\n",
       "      <td>False</td>\n",
       "      <td>False</td>\n",
       "      <td>False</td>\n",
       "      <td>False</td>\n",
       "      <td>False</td>\n",
       "    </tr>\n",
       "    <tr>\n",
       "      <th>...</th>\n",
       "      <td>...</td>\n",
       "      <td>...</td>\n",
       "      <td>...</td>\n",
       "      <td>...</td>\n",
       "      <td>...</td>\n",
       "    </tr>\n",
       "    <tr>\n",
       "      <th>207</th>\n",
       "      <td>False</td>\n",
       "      <td>False</td>\n",
       "      <td>False</td>\n",
       "      <td>False</td>\n",
       "      <td>False</td>\n",
       "    </tr>\n",
       "    <tr>\n",
       "      <th>208</th>\n",
       "      <td>False</td>\n",
       "      <td>False</td>\n",
       "      <td>False</td>\n",
       "      <td>False</td>\n",
       "      <td>False</td>\n",
       "    </tr>\n",
       "    <tr>\n",
       "      <th>209</th>\n",
       "      <td>False</td>\n",
       "      <td>False</td>\n",
       "      <td>False</td>\n",
       "      <td>False</td>\n",
       "      <td>False</td>\n",
       "    </tr>\n",
       "    <tr>\n",
       "      <th>210</th>\n",
       "      <td>False</td>\n",
       "      <td>False</td>\n",
       "      <td>False</td>\n",
       "      <td>False</td>\n",
       "      <td>False</td>\n",
       "    </tr>\n",
       "    <tr>\n",
       "      <th>211</th>\n",
       "      <td>False</td>\n",
       "      <td>False</td>\n",
       "      <td>False</td>\n",
       "      <td>False</td>\n",
       "      <td>False</td>\n",
       "    </tr>\n",
       "  </tbody>\n",
       "</table>\n",
       "<p>201 rows × 5 columns</p>\n",
       "</div>"
      ],
      "text/plain": [
       "     latitude  longitude  distance_km  topography_km  disturbance_mgal\n",
       "0       False      False        False          False             False\n",
       "1       False      False        False          False             False\n",
       "2       False      False        False          False             False\n",
       "3       False      False        False          False             False\n",
       "4       False      False        False          False             False\n",
       "..        ...        ...          ...            ...               ...\n",
       "207     False      False        False          False             False\n",
       "208     False      False        False          False             False\n",
       "209     False      False        False          False             False\n",
       "210     False      False        False          False             False\n",
       "211     False      False        False          False             False\n",
       "\n",
       "[201 rows x 5 columns]"
      ]
     },
     "execution_count": 14,
     "metadata": {},
     "output_type": "execute_result"
    }
   ],
   "source": [
    "data.isnull()"
   ]
  },
  {
   "cell_type": "code",
   "execution_count": 31,
   "id": "cf1b5bef-142d-4cd8-996b-a4de5616df84",
   "metadata": {},
   "outputs": [
    {
     "data": {
      "text/plain": [
       "True"
      ]
     },
     "execution_count": 31,
     "metadata": {},
     "output_type": "execute_result"
    }
   ],
   "source": [
    "data.isnull().values.any()"
   ]
  },
  {
   "cell_type": "code",
   "execution_count": 46,
   "id": "b1b4a4e2-bc12-4a44-a6d1-5daddeb51ea3",
   "metadata": {},
   "outputs": [
    {
     "data": {
      "text/plain": [
       "Text(0.5, 1.0, 'disturbance_mgal')"
      ]
     },
     "execution_count": 46,
     "metadata": {},
     "output_type": "execute_result"
    },
    {
     "data": {
      "image/png": "[encoded data removed]",
      "text/plain": [
       "<Figure size 1080x360 with 4 Axes>"
      ]
     },
     "metadata": {
      "needs_background": "light"
     },
     "output_type": "display_data"
    }
   ],
   "source": [
    "#Veamos...\n",
    "car = [\"distance_km\", \"topography_km\", \"disturbance_mgal\"]\n",
    "\n",
    "fig, axes = plt.subplots(nrows=2, ncols=2, sharex=True, figsize=(15, 5))\n",
    "\n",
    "#distance\n",
    "data[car[0]].plot(ax=axes[0, 0])\n",
    "axes[0,0].set_title(car[0])\n",
    "\n",
    "#topo\n",
    "data[car[1]].plot(ax=axes[0, 1])\n",
    "axes[0,1].set_title(car[1])\n",
    "\n",
    "#disturbance\n",
    "data[car[2]].plot(ax=axes[1, 0])\n",
    "axes[1,0].set_title(car[2])"
   ]
  },
  {
   "cell_type": "code",
   "execution_count": 42,
   "id": "36be1aaa-7f64-474a-8171-54c1d7aa78a9",
   "metadata": {},
   "outputs": [
    {
     "data": {
      "text/html": [
       "<div>\n",
       "<style scoped>\n",
       "    .dataframe tbody tr th:only-of-type {\n",
       "        vertical-align: middle;\n",
       "    }\n",
       "\n",
       "    .dataframe tbody tr th {\n",
       "        vertical-align: top;\n",
       "    }\n",
       "\n",
       "    .dataframe thead th {\n",
       "        text-align: right;\n",
       "    }\n",
       "</style>\n",
       "<table border=\"1\" class=\"dataframe\">\n",
       "  <thead>\n",
       "    <tr style=\"text-align: right;\">\n",
       "      <th></th>\n",
       "      <th>latitude</th>\n",
       "      <th>longitude</th>\n",
       "      <th>Distance(Km)</th>\n",
       "      <th>Bathymetry(Km)</th>\n",
       "      <th>Disturbance(Mgal)</th>\n",
       "    </tr>\n",
       "  </thead>\n",
       "  <tbody>\n",
       "    <tr>\n",
       "      <th>0</th>\n",
       "      <td>13.000000</td>\n",
       "      <td>-165.000000</td>\n",
       "      <td>0.000000</td>\n",
       "      <td>-4.161000</td>\n",
       "      <td>23.008098</td>\n",
       "    </tr>\n",
       "    <tr>\n",
       "      <th>1</th>\n",
       "      <td>13.082915</td>\n",
       "      <td>-164.929648</td>\n",
       "      <td>12.070042</td>\n",
       "      <td>-4.747907</td>\n",
       "      <td>21.180807</td>\n",
       "    </tr>\n",
       "    <tr>\n",
       "      <th>2</th>\n",
       "      <td>13.165829</td>\n",
       "      <td>-164.859296</td>\n",
       "      <td>24.140085</td>\n",
       "      <td>-5.452608</td>\n",
       "      <td>18.099661</td>\n",
       "    </tr>\n",
       "    <tr>\n",
       "      <th>3</th>\n",
       "      <td>13.248744</td>\n",
       "      <td>-164.788945</td>\n",
       "      <td>36.210127</td>\n",
       "      <td>-5.581402</td>\n",
       "      <td>14.372280</td>\n",
       "    </tr>\n",
       "    <tr>\n",
       "      <th>4</th>\n",
       "      <td>13.331658</td>\n",
       "      <td>-164.718593</td>\n",
       "      <td>48.280170</td>\n",
       "      <td>-5.438978</td>\n",
       "      <td>10.606283</td>\n",
       "    </tr>\n",
       "  </tbody>\n",
       "</table>\n",
       "</div>"
      ],
      "text/plain": [
       "    latitude   longitude  Distance(Km)  Bathymetry(Km)  Disturbance(Mgal)\n",
       "0  13.000000 -165.000000      0.000000       -4.161000          23.008098\n",
       "1  13.082915 -164.929648     12.070042       -4.747907          21.180807\n",
       "2  13.165829 -164.859296     24.140085       -5.452608          18.099661\n",
       "3  13.248744 -164.788945     36.210127       -5.581402          14.372280\n",
       "4  13.331658 -164.718593     48.280170       -5.438978          10.606283"
      ]
     },
     "execution_count": 42,
     "metadata": {},
     "output_type": "execute_result"
    }
   ],
   "source": [
    "#Rename heads\n",
    "data2=data.rename(columns={\"distance_km\":\"Distance(Km)\", \"disturbance_mgal\":\"Disturbance(Mgal)\",\"topography_km\":\"Bathymetry(Km)\"})\n",
    "data2.head()"
   ]
  },
  {
   "cell_type": "code",
   "execution_count": 45,
   "id": "636fac37-b21a-4958-9d84-0d2ca564860e",
   "metadata": {},
   "outputs": [
    {
     "data": {
      "image/png": "[encoded data removed]",
      "text/plain": [
       "<Figure size 720x360 with 2 Axes>"
      ]
     },
     "metadata": {
      "needs_background": "light"
     },
     "output_type": "display_data"
    }
   ],
   "source": [
    "#Plot the gravity disturbance & distance and the bathymetry & distance using subplot. Make the plot as if you were going to use it for a scientific article.\n",
    "\n",
    "graph = pd.DataFrame(data2)\n",
    "\n",
    "fig, ax = plt.subplots()\n",
    "graph.plot(x='Distance(Km)', y='Disturbance(Mgal)', kind='line', figsize=(10,5), color='Red', ax = ax)\n",
    "plt.xlabel('Distance (Km)', size=12)\n",
    "plt.ylabel('Gravity Disturbance (mgal)', size=12)\n",
    "\n",
    "graph.plot(x ='Distance(Km)', y='Bathymetry(Km)', ax = ax, secondary_y = True, color='Green', grid=True) \n",
    "ax.right_ax.set_ylabel('Bathymetry (Km)', size=12)\n",
    "plt.title(\"GRAVITY DISTURBANCE vs DISTANCE\", fontsize=14)\n",
    "plt.savefig(\"Gravity_vs_Distance.png\", dpi=300)\n",
    "plt.show()\n"
   ]
  },
  {
   "cell_type": "code",
   "execution_count": null,
   "id": "1487a0d6-bf4e-4b4c-9572-c8ef1704e74c",
   "metadata": {},
   "outputs": [],
   "source": []
  }
 ],
 "metadata": {
  "kernelspec": {
   "display_name": "CoCo",
   "language": "python",
   "name": "coco"
  },
  "language_info": {
   "codemirror_mode": {
    "name": "ipython",
    "version": 3
   },
   "file_extension": ".py",
   "mimetype": "text/x-python",
   "name": "python",
   "nbconvert_exporter": "python",
   "pygments_lexer": "ipython3",
   "version": "3.10.4"
  }
 },
 "nbformat": 4,
 "nbformat_minor": 5
}
